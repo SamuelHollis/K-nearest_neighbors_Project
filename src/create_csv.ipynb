{
 "cells": [
  {
   "cell_type": "code",
   "execution_count": 2,
   "metadata": {},
   "outputs": [],
   "source": [
    "import pandas as pd\n",
    "import urllib.request\n",
    "import ssl\n",
    "\n",
    "url_movies = 'https://raw.githubusercontent.com/4GeeksAcademy/k-nearest-neighbors-project-tutorial/main/tmdb_5000_movies.csv'\n",
    "url_credits = 'https://raw.githubusercontent.com/4GeeksAcademy/k-nearest-neighbors-project-tutorial/main/tmdb_5000_credits.csv'\n",
    "\n",
    "df_m = pd.read_csv(url_movies, index_col=None)\n",
    "df_c = pd.read_csv(url_credits, index_col=None)\n",
    "\n",
    "df_m.to_csv(r'C:\\Users\\samue\\OneDrive\\Escritorio\\4GeeksAcademy\\24a clase-K_nearest_neighbors\\K-nearest_neighbors_Project\\data\\raw/movies_data', index=False)\n",
    "df_c.to_csv(r'C:\\Users\\samue\\OneDrive\\Escritorio\\4GeeksAcademy\\24a clase-K_nearest_neighbors\\K-nearest_neighbors_Project\\data\\raw/credits_data', index = False)"
   ]
  }
 ],
 "metadata": {
  "kernelspec": {
   "display_name": "Python 3",
   "language": "python",
   "name": "python3"
  },
  "language_info": {
   "codemirror_mode": {
    "name": "ipython",
    "version": 3
   },
   "file_extension": ".py",
   "mimetype": "text/x-python",
   "name": "python",
   "nbconvert_exporter": "python",
   "pygments_lexer": "ipython3",
   "version": "3.12.4"
  }
 },
 "nbformat": 4,
 "nbformat_minor": 2
}
